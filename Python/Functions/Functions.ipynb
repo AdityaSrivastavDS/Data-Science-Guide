{
 "cells": [
  {
   "cell_type": "markdown",
   "id": "5548a1de",
   "metadata": {},
   "source": [
    "## Functions:"
   ]
  },
  {
   "cell_type": "markdown",
   "id": "51634e55",
   "metadata": {},
   "source": [
    "•A function is a block of organized, reusable code that performs a specific task.\n",
    "\n",
    "•Functions provide a way to break down large programs into smaller, more manageable pieces.\n",
    "\n",
    "•They can take input, process it, and return a result. Functions are defined using the def keyword in Python."
   ]
  },
  {
   "cell_type": "markdown",
   "id": "509a251f",
   "metadata": {},
   "source": [
    "### User defined functions:"
   ]
  },
  {
   "cell_type": "markdown",
   "id": "253fd723",
   "metadata": {},
   "source": [
    "•These are the functions that is defined by user"
   ]
  },
  {
   "cell_type": "code",
   "execution_count": 3,
   "id": "782a3b79",
   "metadata": {},
   "outputs": [
    {
     "name": "stdout",
     "output_type": "stream",
     "text": [
      "Welcome to Microsoft\n"
     ]
    }
   ],
   "source": [
    "#implementation of a simple function\n",
    "def simplefunction():\n",
    "    print(\"Welcome to Microsoft\")\n",
    "\n",
    "#calling function to diplay output\n",
    "simplefunction()"
   ]
  },
  {
   "cell_type": "code",
   "execution_count": 4,
   "id": "fbec3a5c",
   "metadata": {},
   "outputs": [
    {
     "name": "stdout",
     "output_type": "stream",
     "text": [
      "69\n"
     ]
    }
   ],
   "source": [
    "#implementation of a function with arguments\n",
    "def sum_num(a,b):\n",
    "    print(a+b)\n",
    "#calling function and passing arguments to get output\n",
    "sum_num(24,45)"
   ]
  },
  {
   "cell_type": "code",
   "execution_count": 5,
   "id": "5eddcb07",
   "metadata": {},
   "outputs": [
    {
     "name": "stdout",
     "output_type": "stream",
     "text": [
      "Enter num 1:- 20\n",
      "Enter num 2:- 10\n",
      "30\n"
     ]
    }
   ],
   "source": [
    "def sum_num(a,b):\n",
    "    print(a+b)\n",
    "\n",
    "#taking input from user\n",
    "a = int(input(\"Enter num 1:- \"))\n",
    "b = int(input(\"Enter num 2:- \"))\n",
    "\n",
    "#calling function\n",
    "sum_num(a,b)"
   ]
  },
  {
   "cell_type": "code",
   "execution_count": 7,
   "id": "23404292",
   "metadata": {},
   "outputs": [
    {
     "name": "stdout",
     "output_type": "stream",
     "text": [
      "Enter a value:- 3\n",
      "10\n"
     ]
    }
   ],
   "source": [
    "#passing default value as argument to function\n",
    "def sum_data(n,m=7):\n",
    "    print(n+m)\n",
    "n = int(input(\"Enter a value:- \"))\n",
    "sum_data(n)"
   ]
  },
  {
   "cell_type": "code",
   "execution_count": 8,
   "id": "f30b5c09",
   "metadata": {},
   "outputs": [
    {
     "name": "stdout",
     "output_type": "stream",
     "text": [
      "Enter num1:- 32\n",
      "Enter num2:- 21\n"
     ]
    },
    {
     "data": {
      "text/plain": [
       "53"
      ]
     },
     "execution_count": 8,
     "metadata": {},
     "output_type": "execute_result"
    }
   ],
   "source": [
    "#using return with function\n",
    "def sumnum(i,j):\n",
    "    su = i+j\n",
    "    return su\n",
    "i = int(input(\"Enter num1:- \"))\n",
    "j = int(input(\"Enter num2:- \"))\n",
    "sumnum(i,j)\n"
   ]
  },
  {
   "cell_type": "code",
   "execution_count": null,
   "id": "6a4b9de2",
   "metadata": {},
   "outputs": [],
   "source": []
  }
 ],
 "metadata": {
  "kernelspec": {
   "display_name": "Python 3 (ipykernel)",
   "language": "python",
   "name": "python3"
  },
  "language_info": {
   "codemirror_mode": {
    "name": "ipython",
    "version": 3
   },
   "file_extension": ".py",
   "mimetype": "text/x-python",
   "name": "python",
   "nbconvert_exporter": "python",
   "pygments_lexer": "ipython3",
   "version": "3.11.5"
  }
 },
 "nbformat": 4,
 "nbformat_minor": 5
}
